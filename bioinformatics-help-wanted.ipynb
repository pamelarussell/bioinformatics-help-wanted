{
 "cells": [
  {
   "cell_type": "code",
   "execution_count": 4,
   "metadata": {},
   "outputs": [],
   "source": [
    "from time import sleep\n",
    "import chardet\n",
    "from github3 import login\n",
    "from pycurl import Curl"
   ]
  },
  {
   "cell_type": "markdown",
   "metadata": {},
   "source": [
    "## GitHub API attributes"
   ]
  },
  {
   "cell_type": "code",
   "execution_count": 11,
   "metadata": {},
   "outputs": [],
   "source": [
    "api_rate_limit_per_hour = 5000\n",
    "sec_between_requests = 60 * 60 / api_rate_limit_per_hour\n",
    "url_repos = \"https://api.github.com/repos\""
   ]
  },
  {
   "cell_type": "markdown",
   "metadata": {},
   "source": [
    "## Utility functions for GitHub API"
   ]
  },
  {
   "cell_type": "code",
   "execution_count": 7,
   "metadata": {},
   "outputs": [],
   "source": [
    "def gh_userpwd(gh_username, gh_oauth_key):\n",
    "    \"\"\" Returns string version of GitHub credentials to be passed to GitHub API\n",
    "    \n",
    "    Args:\n",
    "        gh_username: GitHub username for GitHub API\n",
    "        gh_oauth_key: (String) GitHub oauth key\n",
    "    \"\"\"\n",
    "    return('%s:%s' %(gh_username, gh_oauth_key))\n",
    "\n",
    "def sleep_gh_rate_limit():\n",
    "    \"\"\" Sleep for an amount of time that, if done between GitHub API requests for a full hour,\n",
    "    will ensure the API rate limit is not exceeded.\n",
    "    \"\"\"    \n",
    "    sleep(sec_between_requests + 0.05) \n",
    "    \n",
    "def add_page_num(url, page_num):\n",
    "    \"\"\"Add page number to GitHub API request\"\"\"\n",
    "    if \"?\" in url:\n",
    "        return \"%s&page=%s\" %(url, page_num)\n",
    "    else:\n",
    "        return \"%s?page=%s\" %(url, page_num)\n",
    "    \n",
    "def validate_response_found(parsed, message = \"\"):\n",
    "    \"\"\" Check that the GitHub API returned a valid response\n",
    "    Raises ValueError if response was not found\n",
    "    \n",
    "    Args:\n",
    "        parsed: Parsed JSON response as a dict\n",
    "        message: Extra info to print\n",
    "    \"\"\"\n",
    "    if \"message\" in parsed:\n",
    "        if parsed[\"message\"] == \"Not Found\":\n",
    "            raise ValueError(\"Parsed response has message: Not Found. Further information:\\n%s\" %message)\n",
    "\n",
    "def gh_curl_response(url, gh_username, gh_oauth_key):\n",
    "    \"\"\"\n",
    "    Returns the parsed curl response from the GitHub API\n",
    "    Combines pages if applicable\n",
    "    \n",
    "    params:\n",
    "        url: URL e.g. 'https://api.github.com/repos/samtools/samtools'\n",
    "        gh_username: GitHub username for GitHub API\n",
    "        gh_oauth_key: (String) GitHub oauth key\n",
    "        \n",
    "    returns:\n",
    "        Parsed API response. Returns a list of dicts, one for each record, or just one\n",
    "        dict if the response was a single dict.\n",
    "        \n",
    "    \"\"\"\n",
    "    page_num = 1\n",
    "    results = []\n",
    "    prev_response = None\n",
    "    while True:\n",
    "        buffer = BytesIO()\n",
    "        c = pycurl.Curl()\n",
    "        c.setopt(c.URL, add_page_num(url, page_num))\n",
    "        c.setopt(c.USERPWD, gh_userpwd(gh_username, gh_oauth_key))\n",
    "        c.setopt(c.WRITEDATA, buffer)\n",
    "        sleep_gh_rate_limit()\n",
    "        try:\n",
    "            c.perform()\n",
    "        except pycurl.error as e:\n",
    "            print(url)\n",
    "            raise e\n",
    "        c.close()\n",
    "        body = buffer.getvalue()\n",
    "        try:\n",
    "            parsed = json.loads(body.decode())\n",
    "            if \"message\" in parsed:\n",
    "                if \"API rate limit exceeded\" in parsed[\"message\"]:\n",
    "                    raise PermissionError(parsed[\"message\"])\n",
    "        except JSONDecodeError:\n",
    "            print(\"Caught JSONDecodeError. Returning empty list for URL %s\" % url)\n",
    "            return []\n",
    "        validate_response_found(parsed, add_page_num(url, page_num))\n",
    "        if type(parsed) is dict:\n",
    "            return parsed\n",
    "        else:\n",
    "            if len(parsed) == 0:\n",
    "                break\n",
    "            else:\n",
    "                if parsed == prev_response:\n",
    "                    # Sometimes GitHub API will return the same response for any provided page num\n",
    "                    break\n",
    "                else:\n",
    "                    prev_response = parsed\n",
    "                    results = results + parsed\n",
    "                    page_num = page_num + 1\n",
    "    return results"
   ]
  },
  {
   "cell_type": "code",
   "execution_count": null,
   "metadata": {},
   "outputs": [],
   "source": []
  },
  {
   "cell_type": "code",
   "execution_count": null,
   "metadata": {},
   "outputs": [],
   "source": []
  }
 ],
 "metadata": {
  "kernelspec": {
   "display_name": "env-bioinformatics-help-wanted",
   "language": "python",
   "name": "env-bioinformatics-help-wanted"
  },
  "language_info": {
   "codemirror_mode": {
    "name": "ipython",
    "version": 3
   },
   "file_extension": ".py",
   "mimetype": "text/x-python",
   "name": "python",
   "nbconvert_exporter": "python",
   "pygments_lexer": "ipython3",
   "version": "3.7.3"
  }
 },
 "nbformat": 4,
 "nbformat_minor": 4
}
