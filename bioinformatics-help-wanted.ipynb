{
 "cells": [
  {
   "cell_type": "markdown",
   "metadata": {},
   "source": [
    "# Bioinformatics help wanted: find open source repos seeking contributions"
   ]
  },
  {
   "cell_type": "markdown",
   "metadata": {},
   "source": [
    "## Overview"
   ]
  },
  {
   "cell_type": "markdown",
   "metadata": {},
   "source": [
    "This notebook searches the GitHub API for repositories matching search terms, and for open issues within those repositories matching an issue label. For example, use this code to find a list of all repositories matching the search term \"bioinformatics\", written in languages of your choice, with issues labeled \"help wanted\"."
   ]
  },
  {
   "cell_type": "markdown",
   "metadata": {},
   "source": [
    "## Usage"
   ]
  },
  {
   "cell_type": "markdown",
   "metadata": {},
   "source": [
    "#### Installing requirements\n",
    "`pip install -r requirements.txt`\n",
    "\n",
    "#### GitHub credentials\n",
    "A GitHub account and associated OAuth token are required to run this notebook. See these [instructions](https://help.github.com/en/articles/creating-a-personal-access-token-for-the-command-line) to create a token.\n",
    "\n",
    "#### GitHub search terms\n",
    "Simply modify the \"Parameters\" section with your GitHub credentials and desired search terms. \n",
    "\n",
    "#### Results\n",
    "The running notebook will print a summary of repos and open issues matching your search terms."
   ]
  },
  {
   "cell_type": "markdown",
   "metadata": {},
   "source": [
    "## Parameters"
   ]
  },
  {
   "cell_type": "code",
   "execution_count": null,
   "metadata": {},
   "outputs": [],
   "source": [
    "# GitHub credentials\n",
    "gh_username = 'pamelarussell'\n",
    "gh_oauth_file = 'gh_oauth_token.txt'\n",
    "\n",
    "# GitHub search terms\n",
    "topics = ['bioinformatics']\n",
    "languages = ['scala', 'java']\n",
    "issue_label = 'help wanted'"
   ]
  },
  {
   "cell_type": "markdown",
   "metadata": {},
   "source": [
    "## Imports"
   ]
  },
  {
   "cell_type": "code",
   "execution_count": null,
   "metadata": {},
   "outputs": [],
   "source": [
    "import chardet\n",
    "import json\n",
    "import pycurl\n",
    "\n",
    "from time import sleep\n",
    "from github3 import login\n",
    "from pycurl import Curl\n",
    "from io import BytesIO\n",
    "from json.decoder import JSONDecodeError"
   ]
  },
  {
   "cell_type": "markdown",
   "metadata": {},
   "source": [
    "## Setup"
   ]
  },
  {
   "cell_type": "code",
   "execution_count": null,
   "metadata": {},
   "outputs": [],
   "source": [
    "with open(gh_oauth_file) as fh:\n",
    "    gh_oauth_key = fh.readline().strip()\n",
    "api_rate_limit_per_hour = 5000\n",
    "sec_between_requests = 60 * 60 / api_rate_limit_per_hour\n",
    "url_repos = 'https://api.github.com/repos'"
   ]
  },
  {
   "cell_type": "markdown",
   "metadata": {},
   "source": [
    "## Utility functions for GitHub API"
   ]
  },
  {
   "cell_type": "code",
   "execution_count": null,
   "metadata": {},
   "outputs": [],
   "source": [
    "def gh_userpwd(gh_username, gh_oauth_key):\n",
    "    \"\"\" Returns string version of GitHub credentials to be passed to GitHub API\"\"\"\n",
    "    return('{}:{}'.format(gh_username, gh_oauth_key))\n",
    "\n",
    "def sleep_gh_rate_limit():\n",
    "    \"\"\"Sleep for the required amount of time per API request to ensure rate limit is not exceeded\"\"\"    \n",
    "    sleep(sec_between_requests + 0.01) \n",
    "    \n",
    "def add_page_num(url, page_num):\n",
    "    \"\"\"Add page number to GitHub API request and return new URL\"\"\"\n",
    "    if '?' in url:\n",
    "        return '{}&page={}'.format(url, page_num)\n",
    "    else:\n",
    "        return '{}?page={}'.format(url, page_num)\n",
    "    \n",
    "def validate_response_found(parsed, message = ''):\n",
    "    \"\"\" Check that the GitHub API returned a valid response\n",
    "    \n",
    "    Args:\n",
    "        parsed: dict\n",
    "            Parsed JSON response\n",
    "        message\n",
    "            Extra info to print\n",
    "    \"\"\"\n",
    "    if 'message' in parsed:\n",
    "        if parsed['message'] == 'Not Found':\n",
    "            raise ValueError('Parsed response has message: Not Found. Further information:\\n{}'.format(message))\n",
    "\n",
    "def gh_curl_response(url, gh_username, gh_oauth_key):\n",
    "    \"\"\"Returns the parsed curl response from the GitHub API; combines pages if applicable\n",
    "    \n",
    "    Returns:\n",
    "        Parsed API response consisting of a list of dicts, one for each record, or just one\n",
    "        dict if the response was a single dict.\n",
    "        \n",
    "    \"\"\"\n",
    "    page_num = 1\n",
    "    results = []\n",
    "    prev_response = None\n",
    "    while True:\n",
    "        buffer = BytesIO()\n",
    "        c = pycurl.Curl()\n",
    "        c.setopt(c.URL, add_page_num(url, page_num))\n",
    "        c.setopt(c.USERPWD, gh_userpwd(gh_username, gh_oauth_key))\n",
    "        c.setopt(c.WRITEDATA, buffer)\n",
    "        sleep_gh_rate_limit()\n",
    "        try:\n",
    "            c.perform()\n",
    "        except pycurl.error as e:\n",
    "            print(url)\n",
    "            raise e\n",
    "        c.close()\n",
    "        body = buffer.getvalue()\n",
    "        try:\n",
    "            parsed = json.loads(body.decode())\n",
    "            if 'message' in parsed:\n",
    "                if 'API rate limit exceeded' in parsed['message']:\n",
    "                    raise PermissionError(parsed['message'])\n",
    "        except JSONDecodeError:\n",
    "            print('Caught JSONDecodeError. Returning empty list for URL {}'.format(url))\n",
    "            return []\n",
    "        validate_response_found(parsed, add_page_num(url, page_num))\n",
    "        if type(parsed) is dict:\n",
    "            return parsed\n",
    "        else:\n",
    "            if len(parsed) == 0:\n",
    "                break\n",
    "            else:\n",
    "                if parsed == prev_response:\n",
    "                    # Sometimes GitHub API will return the same response for any provided page num\n",
    "                    break\n",
    "                else:\n",
    "                    prev_response = parsed\n",
    "                    results = results + parsed\n",
    "                    page_num = page_num + 1\n",
    "    return results"
   ]
  },
  {
   "cell_type": "markdown",
   "metadata": {},
   "source": [
    "## Find issues"
   ]
  },
  {
   "cell_type": "code",
   "execution_count": null,
   "metadata": {},
   "outputs": [],
   "source": [
    "url = 'https://api.github.com/search/repositories?q={}+{}&sort=stars&order=desc'.format(\n",
    "    '+'.join('topic:{}'.format(topic) for topic in topics), \n",
    "    '+'.join('language:{}'.format(language) for language in languages))\n",
    "repo_data = gh_curl_response(url, gh_username, gh_oauth_key)\n",
    "\n",
    "for repo in repo_data['items']:\n",
    "    repo_url = repo['url']\n",
    "    issues_url = '{}/issues?state=open&labels={}'.format(repo_url, issue_label.replace(' ', '%20'))\n",
    "    issue_data = gh_curl_response(issues_url, gh_username, gh_oauth_key)\n",
    "    if issue_data:\n",
    "        print('\\n')\n",
    "        print('Repo: {}'.format(repo['full_name']))\n",
    "        print('Description: {}'.format(repo['description']))\n",
    "        print('Language: {}'.format(repo['language']))\n",
    "        print('URL: {}'.format(repo['html_url']))\n",
    "        print('Open issues with label \"{}\":'.format(issue_label))\n",
    "        for issue in issue_data:\n",
    "            print('\\t- {} ({})'.format(issue['title'], issue['html_url']))"
   ]
  },
  {
   "cell_type": "code",
   "execution_count": null,
   "metadata": {},
   "outputs": [],
   "source": []
  }
 ],
 "metadata": {
  "kernelspec": {
   "display_name": "env-bioinformatics-help-wanted",
   "language": "python",
   "name": "env-bioinformatics-help-wanted"
  },
  "language_info": {
   "codemirror_mode": {
    "name": "ipython",
    "version": 3
   },
   "file_extension": ".py",
   "mimetype": "text/x-python",
   "name": "python",
   "nbconvert_exporter": "python",
   "pygments_lexer": "ipython3",
   "version": "3.7.3"
  }
 },
 "nbformat": 4,
 "nbformat_minor": 4
}
